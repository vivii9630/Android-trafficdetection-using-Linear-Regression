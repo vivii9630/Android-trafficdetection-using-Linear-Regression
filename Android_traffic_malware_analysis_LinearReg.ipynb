{
 "cells": [
  {
   "cell_type": "code",
   "execution_count": 3,
   "metadata": {},
   "outputs": [],
   "source": [
    "%matplotlib inline\n",
    "import pandas as pd\n",
    "import numpy as np"
   ]
  },
  {
   "cell_type": "code",
   "execution_count": 4,
   "metadata": {},
   "outputs": [
    {
     "data": {
      "text/html": [
       "<div>\n",
       "<style scoped>\n",
       "    .dataframe tbody tr th:only-of-type {\n",
       "        vertical-align: middle;\n",
       "    }\n",
       "\n",
       "    .dataframe tbody tr th {\n",
       "        vertical-align: top;\n",
       "    }\n",
       "\n",
       "    .dataframe thead th {\n",
       "        text-align: right;\n",
       "    }\n",
       "</style>\n",
       "<table border=\"1\" class=\"dataframe\">\n",
       "  <thead>\n",
       "    <tr style=\"text-align: right;\">\n",
       "      <th></th>\n",
       "      <th>tcp_packets</th>\n",
       "      <th>dist_port_tcp</th>\n",
       "      <th>external_ips</th>\n",
       "      <th>vulume_bytes</th>\n",
       "      <th>udp_packets</th>\n",
       "      <th>tcp_urg_packet</th>\n",
       "      <th>source_app_packets</th>\n",
       "      <th>remote_app_packets</th>\n",
       "      <th>source_app_bytes</th>\n",
       "      <th>remote_app_bytes</th>\n",
       "      <th>duracion</th>\n",
       "      <th>avg_local_pkt_rate</th>\n",
       "      <th>avg_remote_pkt_rate</th>\n",
       "      <th>source_app_packets.1</th>\n",
       "      <th>dns_query_times</th>\n",
       "      <th>type</th>\n",
       "    </tr>\n",
       "    <tr>\n",
       "      <th>name</th>\n",
       "      <th></th>\n",
       "      <th></th>\n",
       "      <th></th>\n",
       "      <th></th>\n",
       "      <th></th>\n",
       "      <th></th>\n",
       "      <th></th>\n",
       "      <th></th>\n",
       "      <th></th>\n",
       "      <th></th>\n",
       "      <th></th>\n",
       "      <th></th>\n",
       "      <th></th>\n",
       "      <th></th>\n",
       "      <th></th>\n",
       "      <th></th>\n",
       "    </tr>\n",
       "  </thead>\n",
       "  <tbody>\n",
       "    <tr>\n",
       "      <th>AntiVirus</th>\n",
       "      <td>36</td>\n",
       "      <td>6</td>\n",
       "      <td>3</td>\n",
       "      <td>3911</td>\n",
       "      <td>0</td>\n",
       "      <td>0</td>\n",
       "      <td>39</td>\n",
       "      <td>33</td>\n",
       "      <td>5100</td>\n",
       "      <td>4140</td>\n",
       "      <td>NaN</td>\n",
       "      <td>NaN</td>\n",
       "      <td>NaN</td>\n",
       "      <td>39</td>\n",
       "      <td>3</td>\n",
       "      <td>benign</td>\n",
       "    </tr>\n",
       "    <tr>\n",
       "      <th>AntiVirus</th>\n",
       "      <td>117</td>\n",
       "      <td>0</td>\n",
       "      <td>9</td>\n",
       "      <td>23514</td>\n",
       "      <td>0</td>\n",
       "      <td>0</td>\n",
       "      <td>128</td>\n",
       "      <td>107</td>\n",
       "      <td>26248</td>\n",
       "      <td>24358</td>\n",
       "      <td>NaN</td>\n",
       "      <td>NaN</td>\n",
       "      <td>NaN</td>\n",
       "      <td>128</td>\n",
       "      <td>11</td>\n",
       "      <td>benign</td>\n",
       "    </tr>\n",
       "    <tr>\n",
       "      <th>AntiVirus</th>\n",
       "      <td>196</td>\n",
       "      <td>0</td>\n",
       "      <td>6</td>\n",
       "      <td>24151</td>\n",
       "      <td>0</td>\n",
       "      <td>0</td>\n",
       "      <td>205</td>\n",
       "      <td>214</td>\n",
       "      <td>163887</td>\n",
       "      <td>24867</td>\n",
       "      <td>NaN</td>\n",
       "      <td>NaN</td>\n",
       "      <td>NaN</td>\n",
       "      <td>205</td>\n",
       "      <td>9</td>\n",
       "      <td>benign</td>\n",
       "    </tr>\n",
       "    <tr>\n",
       "      <th>AntiVirus</th>\n",
       "      <td>6</td>\n",
       "      <td>0</td>\n",
       "      <td>1</td>\n",
       "      <td>889</td>\n",
       "      <td>0</td>\n",
       "      <td>0</td>\n",
       "      <td>7</td>\n",
       "      <td>6</td>\n",
       "      <td>819</td>\n",
       "      <td>975</td>\n",
       "      <td>NaN</td>\n",
       "      <td>NaN</td>\n",
       "      <td>NaN</td>\n",
       "      <td>7</td>\n",
       "      <td>1</td>\n",
       "      <td>benign</td>\n",
       "    </tr>\n",
       "    <tr>\n",
       "      <th>AntiVirus</th>\n",
       "      <td>6</td>\n",
       "      <td>0</td>\n",
       "      <td>1</td>\n",
       "      <td>882</td>\n",
       "      <td>0</td>\n",
       "      <td>0</td>\n",
       "      <td>7</td>\n",
       "      <td>6</td>\n",
       "      <td>819</td>\n",
       "      <td>968</td>\n",
       "      <td>NaN</td>\n",
       "      <td>NaN</td>\n",
       "      <td>NaN</td>\n",
       "      <td>7</td>\n",
       "      <td>1</td>\n",
       "      <td>benign</td>\n",
       "    </tr>\n",
       "  </tbody>\n",
       "</table>\n",
       "</div>"
      ],
      "text/plain": [
       "           tcp_packets  dist_port_tcp  external_ips  vulume_bytes  \\\n",
       "name                                                                \n",
       "AntiVirus           36              6             3          3911   \n",
       "AntiVirus          117              0             9         23514   \n",
       "AntiVirus          196              0             6         24151   \n",
       "AntiVirus            6              0             1           889   \n",
       "AntiVirus            6              0             1           882   \n",
       "\n",
       "           udp_packets  tcp_urg_packet  source_app_packets  \\\n",
       "name                                                         \n",
       "AntiVirus            0               0                  39   \n",
       "AntiVirus            0               0                 128   \n",
       "AntiVirus            0               0                 205   \n",
       "AntiVirus            0               0                   7   \n",
       "AntiVirus            0               0                   7   \n",
       "\n",
       "           remote_app_packets  source_app_bytes  remote_app_bytes  duracion  \\\n",
       "name                                                                          \n",
       "AntiVirus                  33              5100              4140       NaN   \n",
       "AntiVirus                 107             26248             24358       NaN   \n",
       "AntiVirus                 214            163887             24867       NaN   \n",
       "AntiVirus                   6               819               975       NaN   \n",
       "AntiVirus                   6               819               968       NaN   \n",
       "\n",
       "           avg_local_pkt_rate  avg_remote_pkt_rate  source_app_packets.1  \\\n",
       "name                                                                       \n",
       "AntiVirus                 NaN                  NaN                    39   \n",
       "AntiVirus                 NaN                  NaN                   128   \n",
       "AntiVirus                 NaN                  NaN                   205   \n",
       "AntiVirus                 NaN                  NaN                     7   \n",
       "AntiVirus                 NaN                  NaN                     7   \n",
       "\n",
       "           dns_query_times    type  \n",
       "name                                \n",
       "AntiVirus                3  benign  \n",
       "AntiVirus               11  benign  \n",
       "AntiVirus                9  benign  \n",
       "AntiVirus                1  benign  \n",
       "AntiVirus                1  benign  "
      ]
     },
     "execution_count": 4,
     "metadata": {},
     "output_type": "execute_result"
    }
   ],
   "source": [
    "data = pd.read_csv('android_traffic.csv', sep = ';', index_col = 0)\n",
    "data.head()"
   ]
  },
  {
   "cell_type": "code",
   "execution_count": 5,
   "metadata": {},
   "outputs": [
    {
     "data": {
      "text/html": [
       "<div>\n",
       "<style scoped>\n",
       "    .dataframe tbody tr th:only-of-type {\n",
       "        vertical-align: middle;\n",
       "    }\n",
       "\n",
       "    .dataframe tbody tr th {\n",
       "        vertical-align: top;\n",
       "    }\n",
       "\n",
       "    .dataframe thead th {\n",
       "        text-align: right;\n",
       "    }\n",
       "</style>\n",
       "<table border=\"1\" class=\"dataframe\">\n",
       "  <thead>\n",
       "    <tr style=\"text-align: right;\">\n",
       "      <th></th>\n",
       "      <th>tcp_packets</th>\n",
       "      <th>dist_port_tcp</th>\n",
       "      <th>external_ips</th>\n",
       "      <th>vulume_bytes</th>\n",
       "      <th>udp_packets</th>\n",
       "      <th>tcp_urg_packet</th>\n",
       "      <th>source_app_packets</th>\n",
       "      <th>remote_app_packets</th>\n",
       "      <th>source_app_bytes</th>\n",
       "      <th>remote_app_bytes</th>\n",
       "      <th>duracion</th>\n",
       "      <th>avg_local_pkt_rate</th>\n",
       "      <th>avg_remote_pkt_rate</th>\n",
       "      <th>source_app_packets.1</th>\n",
       "      <th>dns_query_times</th>\n",
       "      <th>type</th>\n",
       "    </tr>\n",
       "    <tr>\n",
       "      <th>name</th>\n",
       "      <th></th>\n",
       "      <th></th>\n",
       "      <th></th>\n",
       "      <th></th>\n",
       "      <th></th>\n",
       "      <th></th>\n",
       "      <th></th>\n",
       "      <th></th>\n",
       "      <th></th>\n",
       "      <th></th>\n",
       "      <th></th>\n",
       "      <th></th>\n",
       "      <th></th>\n",
       "      <th></th>\n",
       "      <th></th>\n",
       "      <th></th>\n",
       "    </tr>\n",
       "  </thead>\n",
       "  <tbody>\n",
       "    <tr>\n",
       "      <th>Zsone</th>\n",
       "      <td>0</td>\n",
       "      <td>0</td>\n",
       "      <td>0</td>\n",
       "      <td>0</td>\n",
       "      <td>0</td>\n",
       "      <td>0</td>\n",
       "      <td>2</td>\n",
       "      <td>2</td>\n",
       "      <td>257</td>\n",
       "      <td>143</td>\n",
       "      <td>NaN</td>\n",
       "      <td>NaN</td>\n",
       "      <td>NaN</td>\n",
       "      <td>2</td>\n",
       "      <td>2</td>\n",
       "      <td>malicious</td>\n",
       "    </tr>\n",
       "    <tr>\n",
       "      <th>Zsone</th>\n",
       "      <td>4</td>\n",
       "      <td>4</td>\n",
       "      <td>1</td>\n",
       "      <td>296</td>\n",
       "      <td>0</td>\n",
       "      <td>0</td>\n",
       "      <td>5</td>\n",
       "      <td>1</td>\n",
       "      <td>86</td>\n",
       "      <td>382</td>\n",
       "      <td>NaN</td>\n",
       "      <td>NaN</td>\n",
       "      <td>NaN</td>\n",
       "      <td>5</td>\n",
       "      <td>1</td>\n",
       "      <td>malicious</td>\n",
       "    </tr>\n",
       "    <tr>\n",
       "      <th>Zsone</th>\n",
       "      <td>0</td>\n",
       "      <td>0</td>\n",
       "      <td>0</td>\n",
       "      <td>0</td>\n",
       "      <td>0</td>\n",
       "      <td>0</td>\n",
       "      <td>2</td>\n",
       "      <td>2</td>\n",
       "      <td>257</td>\n",
       "      <td>143</td>\n",
       "      <td>NaN</td>\n",
       "      <td>NaN</td>\n",
       "      <td>NaN</td>\n",
       "      <td>2</td>\n",
       "      <td>2</td>\n",
       "      <td>malicious</td>\n",
       "    </tr>\n",
       "    <tr>\n",
       "      <th>Zsone</th>\n",
       "      <td>0</td>\n",
       "      <td>0</td>\n",
       "      <td>0</td>\n",
       "      <td>0</td>\n",
       "      <td>0</td>\n",
       "      <td>0</td>\n",
       "      <td>2</td>\n",
       "      <td>2</td>\n",
       "      <td>257</td>\n",
       "      <td>143</td>\n",
       "      <td>NaN</td>\n",
       "      <td>NaN</td>\n",
       "      <td>NaN</td>\n",
       "      <td>2</td>\n",
       "      <td>2</td>\n",
       "      <td>malicious</td>\n",
       "    </tr>\n",
       "    <tr>\n",
       "      <th>Zsone</th>\n",
       "      <td>0</td>\n",
       "      <td>0</td>\n",
       "      <td>0</td>\n",
       "      <td>0</td>\n",
       "      <td>0</td>\n",
       "      <td>0</td>\n",
       "      <td>2</td>\n",
       "      <td>2</td>\n",
       "      <td>257</td>\n",
       "      <td>143</td>\n",
       "      <td>NaN</td>\n",
       "      <td>NaN</td>\n",
       "      <td>NaN</td>\n",
       "      <td>2</td>\n",
       "      <td>2</td>\n",
       "      <td>malicious</td>\n",
       "    </tr>\n",
       "  </tbody>\n",
       "</table>\n",
       "</div>"
      ],
      "text/plain": [
       "       tcp_packets  dist_port_tcp  external_ips  vulume_bytes  udp_packets  \\\n",
       "name                                                                         \n",
       "Zsone            0              0             0             0            0   \n",
       "Zsone            4              4             1           296            0   \n",
       "Zsone            0              0             0             0            0   \n",
       "Zsone            0              0             0             0            0   \n",
       "Zsone            0              0             0             0            0   \n",
       "\n",
       "       tcp_urg_packet  source_app_packets  remote_app_packets  \\\n",
       "name                                                            \n",
       "Zsone               0                   2                   2   \n",
       "Zsone               0                   5                   1   \n",
       "Zsone               0                   2                   2   \n",
       "Zsone               0                   2                   2   \n",
       "Zsone               0                   2                   2   \n",
       "\n",
       "       source_app_bytes  remote_app_bytes  duracion  avg_local_pkt_rate  \\\n",
       "name                                                                      \n",
       "Zsone               257               143       NaN                 NaN   \n",
       "Zsone                86               382       NaN                 NaN   \n",
       "Zsone               257               143       NaN                 NaN   \n",
       "Zsone               257               143       NaN                 NaN   \n",
       "Zsone               257               143       NaN                 NaN   \n",
       "\n",
       "       avg_remote_pkt_rate  source_app_packets.1  dns_query_times       type  \n",
       "name                                                                          \n",
       "Zsone                  NaN                     2                2  malicious  \n",
       "Zsone                  NaN                     5                1  malicious  \n",
       "Zsone                  NaN                     2                2  malicious  \n",
       "Zsone                  NaN                     2                2  malicious  \n",
       "Zsone                  NaN                     2                2  malicious  "
      ]
     },
     "execution_count": 5,
     "metadata": {},
     "output_type": "execute_result"
    }
   ],
   "source": [
    "data.tail()"
   ]
  },
  {
   "cell_type": "code",
   "execution_count": 6,
   "metadata": {},
   "outputs": [
    {
     "data": {
      "text/plain": [
       "(7845, 16)"
      ]
     },
     "execution_count": 6,
     "metadata": {},
     "output_type": "execute_result"
    }
   ],
   "source": [
    "data.shape"
   ]
  },
  {
   "cell_type": "code",
   "execution_count": 7,
   "metadata": {},
   "outputs": [
    {
     "data": {
      "text/plain": [
       "125520"
      ]
     },
     "execution_count": 7,
     "metadata": {},
     "output_type": "execute_result"
    }
   ],
   "source": [
    "data.size"
   ]
  },
  {
   "cell_type": "code",
   "execution_count": 73,
   "metadata": {},
   "outputs": [
    {
     "data": {
      "text/plain": [
       "<seaborn.axisgrid.PairGrid at 0x21b9b364648>"
      ]
     },
     "execution_count": 73,
     "metadata": {},
     "output_type": "execute_result"
    },
    {
     "data": {
      "image/png": "[encoded data removed]",
      "text/plain": [
       "<Figure size 720x180 with 4 Axes>"
      ]
     },
     "metadata": {
      "needs_background": "light"
     },
     "output_type": "display_data"
    }
   ],
   "source": [
    "import seaborn as sns\n",
    "\n",
    "sns.pairplot(data,x_vars = ['vulume_bytes','tcp_packets', 'dist_port_tcp','dns_query_times'], y_vars = ['external_ips'],kind='reg')"
   ]
  },
  {
   "cell_type": "code",
   "execution_count": 74,
   "metadata": {},
   "outputs": [
    {
     "name": "stdout",
     "output_type": "stream",
     "text": [
      "           vulume_bytes  tcp_packets  dist_port_tcp  dns_query_times\n",
      "name                                                                \n",
      "AntiVirus          3911           36              6                3\n",
      "AntiVirus         23514          117              0               11\n",
      "AntiVirus         24151          196              0                9\n",
      "AntiVirus           889            6              0                1\n",
      "AntiVirus           882            6              0                1\n",
      "...                 ...          ...            ...              ...\n",
      "Zsone                 0            0              0                2\n",
      "Zsone               296            4              4                1\n",
      "Zsone                 0            0              0                2\n",
      "Zsone                 0            0              0                2\n",
      "Zsone                 0            0              0                2\n",
      "\n",
      "[7845 rows x 4 columns]\n",
      "name\n",
      "AntiVirus    3\n",
      "AntiVirus    9\n",
      "AntiVirus    6\n",
      "AntiVirus    1\n",
      "AntiVirus    1\n",
      "            ..\n",
      "Zsone        0\n",
      "Zsone        1\n",
      "Zsone        0\n",
      "Zsone        0\n",
      "Zsone        0\n",
      "Name: external_ips, Length: 7845, dtype: int64\n"
     ]
    }
   ],
   "source": [
    "\n",
    "\n",
    "x = data[['vulume_bytes','tcp_packets', 'dist_port_tcp','dns_query_times']]\n",
    "\n",
    "y = data['external_ips']\n",
    "\n",
    "print (x)\n",
    "print(y)\n"
   ]
  },
  {
   "cell_type": "code",
   "execution_count": 75,
   "metadata": {},
   "outputs": [],
   "source": [
    "from sklearn.model_selection import train_test_split\n",
    "X_train,X_test, Y_train, Y_test = train_test_split(x,y, random_state = 1,test_size= 0.2 )"
   ]
  },
  {
   "cell_type": "code",
   "execution_count": 76,
   "metadata": {},
   "outputs": [
    {
     "name": "stdout",
     "output_type": "stream",
     "text": [
      "(6276, 4)\n",
      "(1569, 4)\n",
      "(6276,)\n",
      "(1569,)\n"
     ]
    }
   ],
   "source": [
    "print(X_train.shape)\n",
    "print(X_test.shape)\n",
    "print(Y_train.shape)\n",
    "print(Y_test.shape)"
   ]
  },
  {
   "cell_type": "code",
   "execution_count": 77,
   "metadata": {},
   "outputs": [
    {
     "data": {
      "text/plain": [
       "LinearRegression(copy_X=True, fit_intercept=True, n_jobs=None, normalize=False)"
      ]
     },
     "execution_count": 77,
     "metadata": {},
     "output_type": "execute_result"
    }
   ],
   "source": [
    "from sklearn.linear_model import LinearRegression\n",
    "\n",
    "linear_reg = LinearRegression()\n",
    "linear_reg.fit(X_train,Y_train)"
   ]
  },
  {
   "cell_type": "code",
   "execution_count": 78,
   "metadata": {},
   "outputs": [
    {
     "name": "stdout",
     "output_type": "stream",
     "text": [
      "2.4309602868877693\n",
      "[4.17255274e-06 1.31388264e-04 7.62017772e-03 3.03058709e-02]\n"
     ]
    }
   ],
   "source": [
    "print(linear_reg.intercept_)\n",
    "print(linear_reg.coef_)"
   ]
  },
  {
   "cell_type": "code",
   "execution_count": 79,
   "metadata": {},
   "outputs": [
    {
     "data": {
      "text/plain": [
       "[('vulume_bytes', 4.1725527394079305e-06),\n",
       " ('tcp_packets', 0.00013138826381631802),\n",
       " ('dist_port_tcp', 0.007620177717541425),\n",
       " ('dns_query_times', 0.03030587086171931)]"
      ]
     },
     "execution_count": 79,
     "metadata": {},
     "output_type": "execute_result"
    }
   ],
   "source": [
    "list(zip(x,linear_reg.coef_))"
   ]
  },
  {
   "cell_type": "code",
   "execution_count": 80,
   "metadata": {},
   "outputs": [],
   "source": [
    "y_pred = linear_reg.predict(X_test)"
   ]
  },
  {
   "cell_type": "code",
   "execution_count": 81,
   "metadata": {},
   "outputs": [
    {
     "name": "stdout",
     "output_type": "stream",
     "text": [
      "8.003850564595975\n"
     ]
    }
   ],
   "source": [
    "from sklearn import metrics\n",
    "\n",
    "print(metrics.mean_squared_error(Y_test,y_pred))"
   ]
  },
  {
   "cell_type": "code",
   "execution_count": 102,
   "metadata": {},
   "outputs": [
    {
     "data": {
      "text/plain": [
       "{'whiskers': [<matplotlib.lines.Line2D at 0x21b9cda3908>,\n",
       "  <matplotlib.lines.Line2D at 0x21b9cdb7fc8>],\n",
       " 'caps': [<matplotlib.lines.Line2D at 0x21b9cdb7d08>,\n",
       "  <matplotlib.lines.Line2D at 0x21b9cdba988>],\n",
       " 'boxes': [<matplotlib.lines.Line2D at 0x21b9cdb7588>],\n",
       " 'medians': [<matplotlib.lines.Line2D at 0x21b9cdbae88>],\n",
       " 'fliers': [<matplotlib.lines.Line2D at 0x21b9cdbafc8>],\n",
       " 'means': []}"
      ]
     },
     "execution_count": 102,
     "metadata": {},
     "output_type": "execute_result"
    },
    {
     "data": {
      "image/png": "[encoded data removed]",
      "text/plain": [
       "<Figure size 432x288 with 1 Axes>"
      ]
     },
     "metadata": {
      "needs_background": "light"
     },
     "output_type": "display_data"
    }
   ],
   "source": [
    "from matplotlib import pyplot as plt\n",
    "plt.boxplot(y_pred)"
   ]
  }
 ],
 "metadata": {
  "kernelspec": {
   "display_name": "Python 3",
   "language": "python",
   "name": "python3"
  },
  "language_info": {
   "codemirror_mode": {
    "name": "ipython",
    "version": 3
   },
   "file_extension": ".py",
   "mimetype": "text/x-python",
   "name": "python",
   "nbconvert_exporter": "python",
   "pygments_lexer": "ipython3",
   "version": "3.7.6"
  }
 },
 "nbformat": 4,
 "nbformat_minor": 4
}
